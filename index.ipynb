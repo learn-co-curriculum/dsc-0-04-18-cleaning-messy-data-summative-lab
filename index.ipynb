{
 "cells": [
  {
   "cell_type": "markdown",
   "metadata": {},
   "source": [
    "# Project - Data Cleaning\n",
    "\n",
    "## Introduction\n",
    "In this lab, we'll make use of everything we've learned about pandas, data cleaning, and Exploratory Data Analysis. In order to complete this lab, you'll have to make import, clean, combine, reshape, and visualize data to answer questions provided, as well as your own questions!\n",
    "\n",
    "## Objectives\n",
    "You will be able to:\n",
    "* Show mastery of the content covered in this section\n",
    "\n",
    "## The Dataset\n",
    "In this lab, we'll work with the comprehensive [Super Heroes Dataset](https://www.kaggle.com/claudiodavi/superhero-set/data), which can be found on Kaggle!\n",
    "\n",
    "## Goals\n",
    "* Use all available pandas knowledge to clean the dataset and deal with null values\n",
    "* Use Queries and aggregations to group the data into interesting subsets as needed\n",
    "* Use descriptive statistics and data visualization to find answers to questions we may have about the data. \n",
    "\n",
    "## Getting Started\n",
    "\n",
    "In the cell below:\n",
    "\n",
    "* Import and alias pandas as `pd`\n",
    "* Import and alias numpy as `np`\n",
    "* Import and alias seaborn as `sns`\n",
    "* Import and alias matplotlib.pyplot as `plt`\n",
    "* Set matplotlib visualizations to display inline in the notebook"
   ]
  },
  {
   "cell_type": "code",
   "execution_count": 1,
   "metadata": {},
   "outputs": [],
   "source": [
    "import pandas as pd\n",
    "import numpy as np\n",
    "import seaborn as sns\n",
    "import matplotlib.pyplot as plt\n",
    "%matplotlib inline"
   ]
  },
  {
   "cell_type": "markdown",
   "metadata": {},
   "source": [
    "For this lab, our dataset is split among two different sources--`heroes_information.csv` and `super_hero_powers.csv`.\n",
    "\n",
    "Use pandas to read in each file and store them in DataFrames in the appropriate variables below. Then, display the head of each to ensure that everything loaded correctly.  "
   ]
  },
  {
   "cell_type": "code",
   "execution_count": 4,
   "metadata": {},
   "outputs": [],
   "source": [
    "heroes_df = pd.read_csv('heroes_information.csv')\n",
    "powers_df = pd.read_csv('super_hero_powers.csv')"
   ]
  },
  {
   "cell_type": "code",
   "execution_count": 67,
   "metadata": {},
   "outputs": [
    {
     "name": "stdout",
     "output_type": "stream",
     "text": [
      "<class 'pandas.core.frame.DataFrame'>\n",
      "RangeIndex: 734 entries, 0 to 733\n",
      "Data columns (total 10 columns):\n",
      "name          734 non-null object\n",
      "Gender        734 non-null object\n",
      "Eye color     734 non-null object\n",
      "Race          734 non-null object\n",
      "Hair color    734 non-null object\n",
      "Height        734 non-null float64\n",
      "Publisher     734 non-null object\n",
      "Skin color    734 non-null object\n",
      "Alignment     734 non-null object\n",
      "Weight        734 non-null float64\n",
      "dtypes: float64(2), object(8)\n",
      "memory usage: 57.4+ KB\n"
     ]
    }
   ],
   "source": [
    "heroes_df.info()"
   ]
  },
  {
   "cell_type": "code",
   "execution_count": 68,
   "metadata": {},
   "outputs": [
    {
     "name": "stdout",
     "output_type": "stream",
     "text": [
      "<class 'pandas.core.frame.DataFrame'>\n",
      "RangeIndex: 667 entries, 0 to 666\n",
      "Columns: 168 entries, hero_names to Omniscient\n",
      "dtypes: bool(167), object(1)\n",
      "memory usage: 114.1+ KB\n"
     ]
    }
   ],
   "source": [
    "powers_df.info()"
   ]
  },
  {
   "cell_type": "code",
   "execution_count": 7,
   "metadata": {},
   "outputs": [
    {
     "data": {
      "text/html": [
       "<div>\n",
       "<style scoped>\n",
       "    .dataframe tbody tr th:only-of-type {\n",
       "        vertical-align: middle;\n",
       "    }\n",
       "\n",
       "    .dataframe tbody tr th {\n",
       "        vertical-align: top;\n",
       "    }\n",
       "\n",
       "    .dataframe thead th {\n",
       "        text-align: right;\n",
       "    }\n",
       "</style>\n",
       "<table border=\"1\" class=\"dataframe\">\n",
       "  <thead>\n",
       "    <tr style=\"text-align: right;\">\n",
       "      <th></th>\n",
       "      <th>name</th>\n",
       "      <th>Gender</th>\n",
       "      <th>Eye color</th>\n",
       "      <th>Race</th>\n",
       "      <th>Hair color</th>\n",
       "      <th>Height</th>\n",
       "      <th>Publisher</th>\n",
       "      <th>Skin color</th>\n",
       "      <th>Alignment</th>\n",
       "      <th>Weight</th>\n",
       "    </tr>\n",
       "  </thead>\n",
       "  <tbody>\n",
       "    <tr>\n",
       "      <th>0</th>\n",
       "      <td>A-Bomb</td>\n",
       "      <td>Male</td>\n",
       "      <td>yellow</td>\n",
       "      <td>Human</td>\n",
       "      <td>No Hair</td>\n",
       "      <td>203.0</td>\n",
       "      <td>Marvel Comics</td>\n",
       "      <td>-</td>\n",
       "      <td>good</td>\n",
       "      <td>441.0</td>\n",
       "    </tr>\n",
       "    <tr>\n",
       "      <th>1</th>\n",
       "      <td>Abe Sapien</td>\n",
       "      <td>Male</td>\n",
       "      <td>blue</td>\n",
       "      <td>Icthyo Sapien</td>\n",
       "      <td>No Hair</td>\n",
       "      <td>191.0</td>\n",
       "      <td>Dark Horse Comics</td>\n",
       "      <td>blue</td>\n",
       "      <td>good</td>\n",
       "      <td>65.0</td>\n",
       "    </tr>\n",
       "  </tbody>\n",
       "</table>\n",
       "</div>"
      ],
      "text/plain": [
       "         name Gender Eye color           Race Hair color  Height  \\\n",
       "0      A-Bomb   Male    yellow          Human    No Hair   203.0   \n",
       "1  Abe Sapien   Male      blue  Icthyo Sapien    No Hair   191.0   \n",
       "\n",
       "           Publisher Skin color Alignment  Weight  \n",
       "0      Marvel Comics          -      good   441.0  \n",
       "1  Dark Horse Comics       blue      good    65.0  "
      ]
     },
     "execution_count": 7,
     "metadata": {},
     "output_type": "execute_result"
    }
   ],
   "source": [
    "heroes_df.head(2)"
   ]
  },
  {
   "cell_type": "code",
   "execution_count": 8,
   "metadata": {},
   "outputs": [
    {
     "data": {
      "text/html": [
       "<div>\n",
       "<style scoped>\n",
       "    .dataframe tbody tr th:only-of-type {\n",
       "        vertical-align: middle;\n",
       "    }\n",
       "\n",
       "    .dataframe tbody tr th {\n",
       "        vertical-align: top;\n",
       "    }\n",
       "\n",
       "    .dataframe thead th {\n",
       "        text-align: right;\n",
       "    }\n",
       "</style>\n",
       "<table border=\"1\" class=\"dataframe\">\n",
       "  <thead>\n",
       "    <tr style=\"text-align: right;\">\n",
       "      <th></th>\n",
       "      <th>hero_names</th>\n",
       "      <th>Agility</th>\n",
       "      <th>Accelerated Healing</th>\n",
       "      <th>Lantern Power Ring</th>\n",
       "      <th>Dimensional Awareness</th>\n",
       "      <th>Cold Resistance</th>\n",
       "      <th>Durability</th>\n",
       "      <th>Stealth</th>\n",
       "      <th>Energy Absorption</th>\n",
       "      <th>Flight</th>\n",
       "      <th>...</th>\n",
       "      <th>Web Creation</th>\n",
       "      <th>Reality Warping</th>\n",
       "      <th>Odin Force</th>\n",
       "      <th>Symbiote Costume</th>\n",
       "      <th>Speed Force</th>\n",
       "      <th>Phoenix Force</th>\n",
       "      <th>Molecular Dissipation</th>\n",
       "      <th>Vision - Cryo</th>\n",
       "      <th>Omnipresent</th>\n",
       "      <th>Omniscient</th>\n",
       "    </tr>\n",
       "  </thead>\n",
       "  <tbody>\n",
       "    <tr>\n",
       "      <th>0</th>\n",
       "      <td>3-D Man</td>\n",
       "      <td>True</td>\n",
       "      <td>False</td>\n",
       "      <td>False</td>\n",
       "      <td>False</td>\n",
       "      <td>False</td>\n",
       "      <td>False</td>\n",
       "      <td>False</td>\n",
       "      <td>False</td>\n",
       "      <td>False</td>\n",
       "      <td>...</td>\n",
       "      <td>False</td>\n",
       "      <td>False</td>\n",
       "      <td>False</td>\n",
       "      <td>False</td>\n",
       "      <td>False</td>\n",
       "      <td>False</td>\n",
       "      <td>False</td>\n",
       "      <td>False</td>\n",
       "      <td>False</td>\n",
       "      <td>False</td>\n",
       "    </tr>\n",
       "    <tr>\n",
       "      <th>1</th>\n",
       "      <td>A-Bomb</td>\n",
       "      <td>False</td>\n",
       "      <td>True</td>\n",
       "      <td>False</td>\n",
       "      <td>False</td>\n",
       "      <td>False</td>\n",
       "      <td>True</td>\n",
       "      <td>False</td>\n",
       "      <td>False</td>\n",
       "      <td>False</td>\n",
       "      <td>...</td>\n",
       "      <td>False</td>\n",
       "      <td>False</td>\n",
       "      <td>False</td>\n",
       "      <td>False</td>\n",
       "      <td>False</td>\n",
       "      <td>False</td>\n",
       "      <td>False</td>\n",
       "      <td>False</td>\n",
       "      <td>False</td>\n",
       "      <td>False</td>\n",
       "    </tr>\n",
       "  </tbody>\n",
       "</table>\n",
       "<p>2 rows × 168 columns</p>\n",
       "</div>"
      ],
      "text/plain": [
       "  hero_names  Agility  Accelerated Healing  Lantern Power Ring  \\\n",
       "0    3-D Man     True                False               False   \n",
       "1     A-Bomb    False                 True               False   \n",
       "\n",
       "   Dimensional Awareness  Cold Resistance  Durability  Stealth  \\\n",
       "0                  False            False       False    False   \n",
       "1                  False            False        True    False   \n",
       "\n",
       "   Energy Absorption  Flight     ...      Web Creation  Reality Warping  \\\n",
       "0              False   False     ...             False            False   \n",
       "1              False   False     ...             False            False   \n",
       "\n",
       "   Odin Force  Symbiote Costume  Speed Force  Phoenix Force  \\\n",
       "0       False             False        False          False   \n",
       "1       False             False        False          False   \n",
       "\n",
       "   Molecular Dissipation  Vision - Cryo  Omnipresent  Omniscient  \n",
       "0                  False          False        False       False  \n",
       "1                  False          False        False       False  \n",
       "\n",
       "[2 rows x 168 columns]"
      ]
     },
     "execution_count": 8,
     "metadata": {},
     "output_type": "execute_result"
    }
   ],
   "source": [
    "powers_df.head(2)"
   ]
  },
  {
   "cell_type": "markdown",
   "metadata": {},
   "source": [
    "It looks as if the heroes information dataset contained an index column.  We did not specify that this dataset contained an index column, because we hadn't seen it yet. Pandas does not know how to tell apart an index column from any other data, so it stored it with the column name `Unnamed: 0`.  \n",
    "\n",
    "Our DataFrame provided row indices by default, so this column is not needed.  Drop it from the DataFrame in place in the cell below, and then display the head of `heroes_df` to ensure that it worked properly. "
   ]
  },
  {
   "cell_type": "code",
   "execution_count": 6,
   "metadata": {},
   "outputs": [
    {
     "ename": "KeyError",
     "evalue": "\"labels ['Unnamed: 0'] not contained in axis\"",
     "output_type": "error",
     "traceback": [
      "\u001b[0;31m---------------------------------------------------------------------------\u001b[0m",
      "\u001b[0;31mKeyError\u001b[0m                                  Traceback (most recent call last)",
      "\u001b[0;32m<ipython-input-6-1ae7ef77f8a4>\u001b[0m in \u001b[0;36m<module>\u001b[0;34m()\u001b[0m\n\u001b[0;32m----> 1\u001b[0;31m \u001b[0mheroes_df\u001b[0m\u001b[0;34m.\u001b[0m\u001b[0mdrop\u001b[0m\u001b[0;34m(\u001b[0m\u001b[0;34m'Unnamed: 0'\u001b[0m\u001b[0;34m,\u001b[0m \u001b[0maxis\u001b[0m\u001b[0;34m=\u001b[0m\u001b[0;36m1\u001b[0m\u001b[0;34m,\u001b[0m \u001b[0minplace\u001b[0m\u001b[0;34m=\u001b[0m\u001b[0;32mTrue\u001b[0m\u001b[0;34m)\u001b[0m\u001b[0;34m\u001b[0m\u001b[0m\n\u001b[0m",
      "\u001b[0;32m/anaconda3/lib/python3.6/site-packages/pandas/core/frame.py\u001b[0m in \u001b[0;36mdrop\u001b[0;34m(self, labels, axis, index, columns, level, inplace, errors)\u001b[0m\n\u001b[1;32m   3692\u001b[0m                                            \u001b[0mindex\u001b[0m\u001b[0;34m=\u001b[0m\u001b[0mindex\u001b[0m\u001b[0;34m,\u001b[0m \u001b[0mcolumns\u001b[0m\u001b[0;34m=\u001b[0m\u001b[0mcolumns\u001b[0m\u001b[0;34m,\u001b[0m\u001b[0;34m\u001b[0m\u001b[0m\n\u001b[1;32m   3693\u001b[0m                                            \u001b[0mlevel\u001b[0m\u001b[0;34m=\u001b[0m\u001b[0mlevel\u001b[0m\u001b[0;34m,\u001b[0m \u001b[0minplace\u001b[0m\u001b[0;34m=\u001b[0m\u001b[0minplace\u001b[0m\u001b[0;34m,\u001b[0m\u001b[0;34m\u001b[0m\u001b[0m\n\u001b[0;32m-> 3694\u001b[0;31m                                            errors=errors)\n\u001b[0m\u001b[1;32m   3695\u001b[0m \u001b[0;34m\u001b[0m\u001b[0m\n\u001b[1;32m   3696\u001b[0m     @rewrite_axis_style_signature('mapper', [('copy', True),\n",
      "\u001b[0;32m/anaconda3/lib/python3.6/site-packages/pandas/core/generic.py\u001b[0m in \u001b[0;36mdrop\u001b[0;34m(self, labels, axis, index, columns, level, inplace, errors)\u001b[0m\n\u001b[1;32m   3106\u001b[0m         \u001b[0;32mfor\u001b[0m \u001b[0maxis\u001b[0m\u001b[0;34m,\u001b[0m \u001b[0mlabels\u001b[0m \u001b[0;32min\u001b[0m \u001b[0maxes\u001b[0m\u001b[0;34m.\u001b[0m\u001b[0mitems\u001b[0m\u001b[0;34m(\u001b[0m\u001b[0;34m)\u001b[0m\u001b[0;34m:\u001b[0m\u001b[0;34m\u001b[0m\u001b[0m\n\u001b[1;32m   3107\u001b[0m             \u001b[0;32mif\u001b[0m \u001b[0mlabels\u001b[0m \u001b[0;32mis\u001b[0m \u001b[0;32mnot\u001b[0m \u001b[0;32mNone\u001b[0m\u001b[0;34m:\u001b[0m\u001b[0;34m\u001b[0m\u001b[0m\n\u001b[0;32m-> 3108\u001b[0;31m                 \u001b[0mobj\u001b[0m \u001b[0;34m=\u001b[0m \u001b[0mobj\u001b[0m\u001b[0;34m.\u001b[0m\u001b[0m_drop_axis\u001b[0m\u001b[0;34m(\u001b[0m\u001b[0mlabels\u001b[0m\u001b[0;34m,\u001b[0m \u001b[0maxis\u001b[0m\u001b[0;34m,\u001b[0m \u001b[0mlevel\u001b[0m\u001b[0;34m=\u001b[0m\u001b[0mlevel\u001b[0m\u001b[0;34m,\u001b[0m \u001b[0merrors\u001b[0m\u001b[0;34m=\u001b[0m\u001b[0merrors\u001b[0m\u001b[0;34m)\u001b[0m\u001b[0;34m\u001b[0m\u001b[0m\n\u001b[0m\u001b[1;32m   3109\u001b[0m \u001b[0;34m\u001b[0m\u001b[0m\n\u001b[1;32m   3110\u001b[0m         \u001b[0;32mif\u001b[0m \u001b[0minplace\u001b[0m\u001b[0;34m:\u001b[0m\u001b[0;34m\u001b[0m\u001b[0m\n",
      "\u001b[0;32m/anaconda3/lib/python3.6/site-packages/pandas/core/generic.py\u001b[0m in \u001b[0;36m_drop_axis\u001b[0;34m(self, labels, axis, level, errors)\u001b[0m\n\u001b[1;32m   3138\u001b[0m                 \u001b[0mnew_axis\u001b[0m \u001b[0;34m=\u001b[0m \u001b[0maxis\u001b[0m\u001b[0;34m.\u001b[0m\u001b[0mdrop\u001b[0m\u001b[0;34m(\u001b[0m\u001b[0mlabels\u001b[0m\u001b[0;34m,\u001b[0m \u001b[0mlevel\u001b[0m\u001b[0;34m=\u001b[0m\u001b[0mlevel\u001b[0m\u001b[0;34m,\u001b[0m \u001b[0merrors\u001b[0m\u001b[0;34m=\u001b[0m\u001b[0merrors\u001b[0m\u001b[0;34m)\u001b[0m\u001b[0;34m\u001b[0m\u001b[0m\n\u001b[1;32m   3139\u001b[0m             \u001b[0;32melse\u001b[0m\u001b[0;34m:\u001b[0m\u001b[0;34m\u001b[0m\u001b[0m\n\u001b[0;32m-> 3140\u001b[0;31m                 \u001b[0mnew_axis\u001b[0m \u001b[0;34m=\u001b[0m \u001b[0maxis\u001b[0m\u001b[0;34m.\u001b[0m\u001b[0mdrop\u001b[0m\u001b[0;34m(\u001b[0m\u001b[0mlabels\u001b[0m\u001b[0;34m,\u001b[0m \u001b[0merrors\u001b[0m\u001b[0;34m=\u001b[0m\u001b[0merrors\u001b[0m\u001b[0;34m)\u001b[0m\u001b[0;34m\u001b[0m\u001b[0m\n\u001b[0m\u001b[1;32m   3141\u001b[0m             \u001b[0mdropped\u001b[0m \u001b[0;34m=\u001b[0m \u001b[0mself\u001b[0m\u001b[0;34m.\u001b[0m\u001b[0mreindex\u001b[0m\u001b[0;34m(\u001b[0m\u001b[0;34m**\u001b[0m\u001b[0;34m{\u001b[0m\u001b[0maxis_name\u001b[0m\u001b[0;34m:\u001b[0m \u001b[0mnew_axis\u001b[0m\u001b[0;34m}\u001b[0m\u001b[0;34m)\u001b[0m\u001b[0;34m\u001b[0m\u001b[0m\n\u001b[1;32m   3142\u001b[0m             \u001b[0;32mtry\u001b[0m\u001b[0;34m:\u001b[0m\u001b[0;34m\u001b[0m\u001b[0m\n",
      "\u001b[0;32m/anaconda3/lib/python3.6/site-packages/pandas/core/indexes/base.py\u001b[0m in \u001b[0;36mdrop\u001b[0;34m(self, labels, errors)\u001b[0m\n\u001b[1;32m   4385\u001b[0m             \u001b[0;32mif\u001b[0m \u001b[0merrors\u001b[0m \u001b[0;34m!=\u001b[0m \u001b[0;34m'ignore'\u001b[0m\u001b[0;34m:\u001b[0m\u001b[0;34m\u001b[0m\u001b[0m\n\u001b[1;32m   4386\u001b[0m                 raise KeyError(\n\u001b[0;32m-> 4387\u001b[0;31m                     'labels %s not contained in axis' % labels[mask])\n\u001b[0m\u001b[1;32m   4388\u001b[0m             \u001b[0mindexer\u001b[0m \u001b[0;34m=\u001b[0m \u001b[0mindexer\u001b[0m\u001b[0;34m[\u001b[0m\u001b[0;34m~\u001b[0m\u001b[0mmask\u001b[0m\u001b[0;34m]\u001b[0m\u001b[0;34m\u001b[0m\u001b[0m\n\u001b[1;32m   4389\u001b[0m         \u001b[0;32mreturn\u001b[0m \u001b[0mself\u001b[0m\u001b[0;34m.\u001b[0m\u001b[0mdelete\u001b[0m\u001b[0;34m(\u001b[0m\u001b[0mindexer\u001b[0m\u001b[0;34m)\u001b[0m\u001b[0;34m\u001b[0m\u001b[0m\n",
      "\u001b[0;31mKeyError\u001b[0m: \"labels ['Unnamed: 0'] not contained in axis\""
     ]
    }
   ],
   "source": [
    "heroes_df.drop('Unnamed: 0', axis=1, inplace=True)"
   ]
  },
  {
   "cell_type": "code",
   "execution_count": 9,
   "metadata": {},
   "outputs": [
    {
     "data": {
      "text/plain": [
       "name           0\n",
       "Gender         0\n",
       "Eye color      0\n",
       "Race           0\n",
       "Hair color     0\n",
       "Height         0\n",
       "Publisher     15\n",
       "Skin color     0\n",
       "Alignment      0\n",
       "Weight         2\n",
       "dtype: int64"
      ]
     },
     "execution_count": 9,
     "metadata": {},
     "output_type": "execute_result"
    }
   ],
   "source": [
    "heroes_df.isna().sum()"
   ]
  },
  {
   "cell_type": "markdown",
   "metadata": {},
   "source": [
    "## Familiarize Yourself With the Dataset\n",
    "\n",
    "The first step in our Exploratory Data Analysis will be to get familiar with the data.  This step includes:\n",
    "\n",
    "* Understanding the dimensionality of your dataset\n",
    "* Investigating what type of data it contains, and the data types used to store it\n",
    "* Discovering how missing values are encoded, and how many there are\n",
    "* Getting a feel for what information it does and doesnt contain\n",
    "\n",
    "In the cell below, get the descriptive statistics of each DataFrame.  "
   ]
  },
  {
   "cell_type": "code",
   "execution_count": 10,
   "metadata": {},
   "outputs": [
    {
     "data": {
      "text/html": [
       "<div>\n",
       "<style scoped>\n",
       "    .dataframe tbody tr th:only-of-type {\n",
       "        vertical-align: middle;\n",
       "    }\n",
       "\n",
       "    .dataframe tbody tr th {\n",
       "        vertical-align: top;\n",
       "    }\n",
       "\n",
       "    .dataframe thead th {\n",
       "        text-align: right;\n",
       "    }\n",
       "</style>\n",
       "<table border=\"1\" class=\"dataframe\">\n",
       "  <thead>\n",
       "    <tr style=\"text-align: right;\">\n",
       "      <th></th>\n",
       "      <th>Height</th>\n",
       "      <th>Weight</th>\n",
       "    </tr>\n",
       "  </thead>\n",
       "  <tbody>\n",
       "    <tr>\n",
       "      <th>count</th>\n",
       "      <td>734.000000</td>\n",
       "      <td>732.000000</td>\n",
       "    </tr>\n",
       "    <tr>\n",
       "      <th>mean</th>\n",
       "      <td>102.254087</td>\n",
       "      <td>43.855191</td>\n",
       "    </tr>\n",
       "    <tr>\n",
       "      <th>std</th>\n",
       "      <td>139.624543</td>\n",
       "      <td>130.823733</td>\n",
       "    </tr>\n",
       "    <tr>\n",
       "      <th>min</th>\n",
       "      <td>-99.000000</td>\n",
       "      <td>-99.000000</td>\n",
       "    </tr>\n",
       "    <tr>\n",
       "      <th>25%</th>\n",
       "      <td>-99.000000</td>\n",
       "      <td>-99.000000</td>\n",
       "    </tr>\n",
       "    <tr>\n",
       "      <th>50%</th>\n",
       "      <td>175.000000</td>\n",
       "      <td>62.000000</td>\n",
       "    </tr>\n",
       "    <tr>\n",
       "      <th>75%</th>\n",
       "      <td>185.000000</td>\n",
       "      <td>90.000000</td>\n",
       "    </tr>\n",
       "    <tr>\n",
       "      <th>max</th>\n",
       "      <td>975.000000</td>\n",
       "      <td>900.000000</td>\n",
       "    </tr>\n",
       "  </tbody>\n",
       "</table>\n",
       "</div>"
      ],
      "text/plain": [
       "           Height      Weight\n",
       "count  734.000000  732.000000\n",
       "mean   102.254087   43.855191\n",
       "std    139.624543  130.823733\n",
       "min    -99.000000  -99.000000\n",
       "25%    -99.000000  -99.000000\n",
       "50%    175.000000   62.000000\n",
       "75%    185.000000   90.000000\n",
       "max    975.000000  900.000000"
      ]
     },
     "execution_count": 10,
     "metadata": {},
     "output_type": "execute_result"
    }
   ],
   "source": [
    "heroes_df.describe()"
   ]
  },
  {
   "cell_type": "code",
   "execution_count": 12,
   "metadata": {},
   "outputs": [
    {
     "data": {
      "text/html": [
       "<div>\n",
       "<style scoped>\n",
       "    .dataframe tbody tr th:only-of-type {\n",
       "        vertical-align: middle;\n",
       "    }\n",
       "\n",
       "    .dataframe tbody tr th {\n",
       "        vertical-align: top;\n",
       "    }\n",
       "\n",
       "    .dataframe thead th {\n",
       "        text-align: right;\n",
       "    }\n",
       "</style>\n",
       "<table border=\"1\" class=\"dataframe\">\n",
       "  <thead>\n",
       "    <tr style=\"text-align: right;\">\n",
       "      <th></th>\n",
       "      <th>hero_names</th>\n",
       "      <th>Agility</th>\n",
       "      <th>Accelerated Healing</th>\n",
       "      <th>Lantern Power Ring</th>\n",
       "      <th>Dimensional Awareness</th>\n",
       "      <th>Cold Resistance</th>\n",
       "      <th>Durability</th>\n",
       "      <th>Stealth</th>\n",
       "      <th>Energy Absorption</th>\n",
       "      <th>Flight</th>\n",
       "      <th>...</th>\n",
       "      <th>Web Creation</th>\n",
       "      <th>Reality Warping</th>\n",
       "      <th>Odin Force</th>\n",
       "      <th>Symbiote Costume</th>\n",
       "      <th>Speed Force</th>\n",
       "      <th>Phoenix Force</th>\n",
       "      <th>Molecular Dissipation</th>\n",
       "      <th>Vision - Cryo</th>\n",
       "      <th>Omnipresent</th>\n",
       "      <th>Omniscient</th>\n",
       "    </tr>\n",
       "  </thead>\n",
       "  <tbody>\n",
       "    <tr>\n",
       "      <th>count</th>\n",
       "      <td>667</td>\n",
       "      <td>667</td>\n",
       "      <td>667</td>\n",
       "      <td>667</td>\n",
       "      <td>667</td>\n",
       "      <td>667</td>\n",
       "      <td>667</td>\n",
       "      <td>667</td>\n",
       "      <td>667</td>\n",
       "      <td>667</td>\n",
       "      <td>...</td>\n",
       "      <td>667</td>\n",
       "      <td>667</td>\n",
       "      <td>667</td>\n",
       "      <td>667</td>\n",
       "      <td>667</td>\n",
       "      <td>667</td>\n",
       "      <td>667</td>\n",
       "      <td>667</td>\n",
       "      <td>667</td>\n",
       "      <td>667</td>\n",
       "    </tr>\n",
       "    <tr>\n",
       "      <th>unique</th>\n",
       "      <td>667</td>\n",
       "      <td>2</td>\n",
       "      <td>2</td>\n",
       "      <td>2</td>\n",
       "      <td>2</td>\n",
       "      <td>2</td>\n",
       "      <td>2</td>\n",
       "      <td>2</td>\n",
       "      <td>2</td>\n",
       "      <td>2</td>\n",
       "      <td>...</td>\n",
       "      <td>2</td>\n",
       "      <td>2</td>\n",
       "      <td>2</td>\n",
       "      <td>2</td>\n",
       "      <td>2</td>\n",
       "      <td>2</td>\n",
       "      <td>2</td>\n",
       "      <td>2</td>\n",
       "      <td>2</td>\n",
       "      <td>2</td>\n",
       "    </tr>\n",
       "    <tr>\n",
       "      <th>top</th>\n",
       "      <td>Darkseid</td>\n",
       "      <td>False</td>\n",
       "      <td>False</td>\n",
       "      <td>False</td>\n",
       "      <td>False</td>\n",
       "      <td>False</td>\n",
       "      <td>False</td>\n",
       "      <td>False</td>\n",
       "      <td>False</td>\n",
       "      <td>False</td>\n",
       "      <td>...</td>\n",
       "      <td>False</td>\n",
       "      <td>False</td>\n",
       "      <td>False</td>\n",
       "      <td>False</td>\n",
       "      <td>False</td>\n",
       "      <td>False</td>\n",
       "      <td>False</td>\n",
       "      <td>False</td>\n",
       "      <td>False</td>\n",
       "      <td>False</td>\n",
       "    </tr>\n",
       "    <tr>\n",
       "      <th>freq</th>\n",
       "      <td>1</td>\n",
       "      <td>425</td>\n",
       "      <td>489</td>\n",
       "      <td>656</td>\n",
       "      <td>642</td>\n",
       "      <td>620</td>\n",
       "      <td>410</td>\n",
       "      <td>541</td>\n",
       "      <td>590</td>\n",
       "      <td>455</td>\n",
       "      <td>...</td>\n",
       "      <td>653</td>\n",
       "      <td>651</td>\n",
       "      <td>665</td>\n",
       "      <td>658</td>\n",
       "      <td>666</td>\n",
       "      <td>666</td>\n",
       "      <td>666</td>\n",
       "      <td>665</td>\n",
       "      <td>665</td>\n",
       "      <td>665</td>\n",
       "    </tr>\n",
       "  </tbody>\n",
       "</table>\n",
       "<p>4 rows × 168 columns</p>\n",
       "</div>"
      ],
      "text/plain": [
       "       hero_names Agility Accelerated Healing Lantern Power Ring  \\\n",
       "count         667     667                 667                667   \n",
       "unique        667       2                   2                  2   \n",
       "top      Darkseid   False               False              False   \n",
       "freq            1     425                 489                656   \n",
       "\n",
       "       Dimensional Awareness Cold Resistance Durability Stealth  \\\n",
       "count                    667             667        667     667   \n",
       "unique                     2               2          2       2   \n",
       "top                    False           False      False   False   \n",
       "freq                     642             620        410     541   \n",
       "\n",
       "       Energy Absorption Flight    ...     Web Creation Reality Warping  \\\n",
       "count                667    667    ...              667             667   \n",
       "unique                 2      2    ...                2               2   \n",
       "top                False  False    ...            False           False   \n",
       "freq                 590    455    ...              653             651   \n",
       "\n",
       "       Odin Force Symbiote Costume Speed Force Phoenix Force  \\\n",
       "count         667              667         667           667   \n",
       "unique          2                2           2             2   \n",
       "top         False            False       False         False   \n",
       "freq          665              658         666           666   \n",
       "\n",
       "       Molecular Dissipation Vision - Cryo Omnipresent Omniscient  \n",
       "count                    667           667         667        667  \n",
       "unique                     2             2           2          2  \n",
       "top                    False         False       False      False  \n",
       "freq                     666           665         665        665  \n",
       "\n",
       "[4 rows x 168 columns]"
      ]
     },
     "execution_count": 12,
     "metadata": {},
     "output_type": "execute_result"
    }
   ],
   "source": [
    "powers_df.describe()"
   ]
  },
  {
   "cell_type": "markdown",
   "metadata": {},
   "source": [
    "## Dealing with Null Values\n",
    "\n",
    "Starting in the cell below, detect and deal with any null values in either data frame.  Then, explain your methodology for detecting and dealing with outliers in the markdown section below.  Be sure to explain your strategy for dealing with null values in numeric columns, as well as your strategy for dealing with null values in non-numeric columns.  \n",
    "\n",
    "Note that if you need to add more cells to write code in, you can do this by:\n",
    "\n",
    "**1.** Highlighting a cell and then pressing `ESC` to enter command mode.  \n",
    "**2.** Press `A` to add a cell above the highlighted cell, or `B` to add a cell below the highlighted cell. \n",
    "\n",
    "Describe your strategy below this line:\n",
    "\n",
    "---\n",
    "When dealing with numeric and categorical data, I want to see if each of them have null values.\n",
    "\n",
    "For the numeric data I can check the distribution of the data to set of each column to see if using the mean or median would be better in keeping the distribution of the data in.\n",
    "\n",
    "With categorical data, I can check for unique values in each column to see if there are any NaN and put them in the correct category.\n",
    "\n",
    "If a column like 'skin color' is mostly NaNs it's easier to remove the entire column since that will hardly affect the rest of the data."
   ]
  },
  {
   "cell_type": "code",
   "execution_count": 10,
   "metadata": {},
   "outputs": [
    {
     "data": {
      "text/plain": [
       "name           0\n",
       "Gender         0\n",
       "Eye color      0\n",
       "Race           0\n",
       "Hair color     0\n",
       "Height         0\n",
       "Publisher     15\n",
       "Skin color     0\n",
       "Alignment      0\n",
       "Weight         2\n",
       "dtype: int64"
      ]
     },
     "execution_count": 10,
     "metadata": {},
     "output_type": "execute_result"
    }
   ],
   "source": [
    "heroes_df.isna().sum() # this code will show the amount of NaNs in each category.\n",
    "# Publisher and Weight have NaNs. Since weight only has 2 NaNs I will work on that first."
   ]
  },
  {
   "cell_type": "code",
   "execution_count": 12,
   "metadata": {},
   "outputs": [
    {
     "name": "stdout",
     "output_type": "stream",
     "text": [
      "43.8551912568306\n",
      "62.0\n"
     ]
    },
    {
     "data": {
      "text/plain": [
       "<matplotlib.axes._subplots.AxesSubplot at 0x109ba3320>"
      ]
     },
     "execution_count": 12,
     "metadata": {},
     "output_type": "execute_result"
    },
    {
     "data": {
      "image/png": "[encoded data removed]",
      "text/plain": [
       "<Figure size 432x288 with 1 Axes>"
      ]
     },
     "metadata": {},
     "output_type": "display_data"
    }
   ],
   "source": [
    "#check the distribution of the column since its numerical data.\n",
    "weight_mean = heroes_df.Weight.mean()\n",
    "weight_median = heroes_df.Weight.median()\n",
    "\n",
    "print(weight_mean)\n",
    "print(weight_median)\n",
    "\n",
    "heroes_df.plot(kind='hist')"
   ]
  },
  {
   "cell_type": "code",
   "execution_count": 13,
   "metadata": {},
   "outputs": [],
   "source": [
    "# filled the NaN values with the median weight of the column. Used inplace=True to mutate the column.\n",
    "heroes_df.Weight.fillna(heroes_df.Weight.median(),inplace=True)"
   ]
  },
  {
   "cell_type": "code",
   "execution_count": 16,
   "metadata": {},
   "outputs": [
    {
     "data": {
      "text/plain": [
       "array(['Marvel Comics', 'Dark Horse Comics', 'DC Comics', 'NBC - Heroes',\n",
       "       'Wildstorm', 'Image Comics', 'Unknown', 'Icon Comics', 'SyFy',\n",
       "       'Hanna-Barbera', 'George Lucas', 'Team Epic TV', 'South Park',\n",
       "       'HarperCollins', 'ABC Studios', 'Universal Studios', 'Star Trek',\n",
       "       'IDW Publishing', 'Shueisha', 'Sony Pictures', 'J. K. Rowling',\n",
       "       'Titan Books', 'Rebellion', 'Microsoft', 'J. R. R. Tolkien'],\n",
       "      dtype=object)"
      ]
     },
     "execution_count": 16,
     "metadata": {},
     "output_type": "execute_result"
    }
   ],
   "source": [
    "heroes_df.Publisher.unique()"
   ]
  },
  {
   "cell_type": "code",
   "execution_count": 15,
   "metadata": {},
   "outputs": [],
   "source": [
    "# changed the nan value to unknown to keep the data from the rows.\n",
    "heroes_df.Publisher.fillna('Unknown',inplace=True)"
   ]
  },
  {
   "cell_type": "code",
   "execution_count": 17,
   "metadata": {},
   "outputs": [
    {
     "data": {
      "text/plain": [
       "name          0\n",
       "Gender        0\n",
       "Eye color     0\n",
       "Race          0\n",
       "Hair color    0\n",
       "Height        0\n",
       "Publisher     0\n",
       "Skin color    0\n",
       "Alignment     0\n",
       "Weight        0\n",
       "dtype: int64"
      ]
     },
     "execution_count": 17,
     "metadata": {},
     "output_type": "execute_result"
    }
   ],
   "source": [
    "heroes_df.isna().sum()"
   ]
  },
  {
   "cell_type": "code",
   "execution_count": 63,
   "metadata": {},
   "outputs": [
    {
     "data": {
      "text/plain": [
       "RangeIndex(start=0, stop=667, step=1)"
      ]
     },
     "execution_count": 63,
     "metadata": {},
     "output_type": "execute_result"
    }
   ],
   "source": [
    "powers_df.index"
   ]
  },
  {
   "cell_type": "markdown",
   "metadata": {},
   "source": [
    "## Joining, Grouping, and Aggregating\n",
    "\n",
    "In the cell below, join the two DataFrames.  Think about which sort of join you should use, as well as which columns you should join on.  Rename columns and manipulate as needed.  \n",
    "\n",
    "**_HINT:_** If the join throws an error message, consider settin the the column you want to join on as the index for each DataFrame.  "
   ]
  },
  {
   "cell_type": "code",
   "execution_count": 18,
   "metadata": {},
   "outputs": [
    {
     "name": "stdout",
     "output_type": "stream",
     "text": [
      "<class 'pandas.core.frame.DataFrame'>\n",
      "RangeIndex: 734 entries, 0 to 733\n",
      "Columns: 178 entries, name to Omniscient\n",
      "dtypes: float64(2), object(176)\n",
      "memory usage: 1020.8+ KB\n"
     ]
    }
   ],
   "source": [
    "heroes = heroes_df.join(powers_df,how='left')\n",
    "heroes.info()"
   ]
  },
  {
   "cell_type": "code",
   "execution_count": 19,
   "metadata": {},
   "outputs": [
    {
     "data": {
      "text/html": [
       "<div>\n",
       "<style scoped>\n",
       "    .dataframe tbody tr th:only-of-type {\n",
       "        vertical-align: middle;\n",
       "    }\n",
       "\n",
       "    .dataframe tbody tr th {\n",
       "        vertical-align: top;\n",
       "    }\n",
       "\n",
       "    .dataframe thead th {\n",
       "        text-align: right;\n",
       "    }\n",
       "</style>\n",
       "<table border=\"1\" class=\"dataframe\">\n",
       "  <thead>\n",
       "    <tr style=\"text-align: right;\">\n",
       "      <th></th>\n",
       "      <th>name</th>\n",
       "      <th>Gender</th>\n",
       "      <th>Eye color</th>\n",
       "      <th>Race</th>\n",
       "      <th>Hair color</th>\n",
       "      <th>Height</th>\n",
       "      <th>Publisher</th>\n",
       "      <th>Skin color</th>\n",
       "      <th>Alignment</th>\n",
       "      <th>Weight</th>\n",
       "      <th>...</th>\n",
       "      <th>Web Creation</th>\n",
       "      <th>Reality Warping</th>\n",
       "      <th>Odin Force</th>\n",
       "      <th>Symbiote Costume</th>\n",
       "      <th>Speed Force</th>\n",
       "      <th>Phoenix Force</th>\n",
       "      <th>Molecular Dissipation</th>\n",
       "      <th>Vision - Cryo</th>\n",
       "      <th>Omnipresent</th>\n",
       "      <th>Omniscient</th>\n",
       "    </tr>\n",
       "  </thead>\n",
       "  <tbody>\n",
       "    <tr>\n",
       "      <th>0</th>\n",
       "      <td>A-Bomb</td>\n",
       "      <td>Male</td>\n",
       "      <td>yellow</td>\n",
       "      <td>Human</td>\n",
       "      <td>No Hair</td>\n",
       "      <td>203.0</td>\n",
       "      <td>Marvel Comics</td>\n",
       "      <td>-</td>\n",
       "      <td>good</td>\n",
       "      <td>441.0</td>\n",
       "      <td>...</td>\n",
       "      <td>False</td>\n",
       "      <td>False</td>\n",
       "      <td>False</td>\n",
       "      <td>False</td>\n",
       "      <td>False</td>\n",
       "      <td>False</td>\n",
       "      <td>False</td>\n",
       "      <td>False</td>\n",
       "      <td>False</td>\n",
       "      <td>False</td>\n",
       "    </tr>\n",
       "    <tr>\n",
       "      <th>1</th>\n",
       "      <td>Abe Sapien</td>\n",
       "      <td>Male</td>\n",
       "      <td>blue</td>\n",
       "      <td>Icthyo Sapien</td>\n",
       "      <td>No Hair</td>\n",
       "      <td>191.0</td>\n",
       "      <td>Dark Horse Comics</td>\n",
       "      <td>blue</td>\n",
       "      <td>good</td>\n",
       "      <td>65.0</td>\n",
       "      <td>...</td>\n",
       "      <td>False</td>\n",
       "      <td>False</td>\n",
       "      <td>False</td>\n",
       "      <td>False</td>\n",
       "      <td>False</td>\n",
       "      <td>False</td>\n",
       "      <td>False</td>\n",
       "      <td>False</td>\n",
       "      <td>False</td>\n",
       "      <td>False</td>\n",
       "    </tr>\n",
       "    <tr>\n",
       "      <th>2</th>\n",
       "      <td>Abin Sur</td>\n",
       "      <td>Male</td>\n",
       "      <td>blue</td>\n",
       "      <td>Ungaran</td>\n",
       "      <td>No Hair</td>\n",
       "      <td>185.0</td>\n",
       "      <td>DC Comics</td>\n",
       "      <td>red</td>\n",
       "      <td>good</td>\n",
       "      <td>90.0</td>\n",
       "      <td>...</td>\n",
       "      <td>False</td>\n",
       "      <td>False</td>\n",
       "      <td>False</td>\n",
       "      <td>False</td>\n",
       "      <td>False</td>\n",
       "      <td>False</td>\n",
       "      <td>False</td>\n",
       "      <td>False</td>\n",
       "      <td>False</td>\n",
       "      <td>False</td>\n",
       "    </tr>\n",
       "    <tr>\n",
       "      <th>3</th>\n",
       "      <td>Abomination</td>\n",
       "      <td>Male</td>\n",
       "      <td>green</td>\n",
       "      <td>Human / Radiation</td>\n",
       "      <td>No Hair</td>\n",
       "      <td>203.0</td>\n",
       "      <td>Marvel Comics</td>\n",
       "      <td>-</td>\n",
       "      <td>bad</td>\n",
       "      <td>441.0</td>\n",
       "      <td>...</td>\n",
       "      <td>False</td>\n",
       "      <td>False</td>\n",
       "      <td>False</td>\n",
       "      <td>False</td>\n",
       "      <td>False</td>\n",
       "      <td>False</td>\n",
       "      <td>False</td>\n",
       "      <td>False</td>\n",
       "      <td>False</td>\n",
       "      <td>False</td>\n",
       "    </tr>\n",
       "    <tr>\n",
       "      <th>4</th>\n",
       "      <td>Abraxas</td>\n",
       "      <td>Male</td>\n",
       "      <td>blue</td>\n",
       "      <td>Cosmic Entity</td>\n",
       "      <td>Black</td>\n",
       "      <td>-99.0</td>\n",
       "      <td>Marvel Comics</td>\n",
       "      <td>-</td>\n",
       "      <td>bad</td>\n",
       "      <td>-99.0</td>\n",
       "      <td>...</td>\n",
       "      <td>False</td>\n",
       "      <td>False</td>\n",
       "      <td>False</td>\n",
       "      <td>False</td>\n",
       "      <td>False</td>\n",
       "      <td>False</td>\n",
       "      <td>False</td>\n",
       "      <td>False</td>\n",
       "      <td>False</td>\n",
       "      <td>False</td>\n",
       "    </tr>\n",
       "  </tbody>\n",
       "</table>\n",
       "<p>5 rows × 178 columns</p>\n",
       "</div>"
      ],
      "text/plain": [
       "          name Gender Eye color               Race Hair color  Height  \\\n",
       "0       A-Bomb   Male    yellow              Human    No Hair   203.0   \n",
       "1   Abe Sapien   Male      blue      Icthyo Sapien    No Hair   191.0   \n",
       "2     Abin Sur   Male      blue            Ungaran    No Hair   185.0   \n",
       "3  Abomination   Male     green  Human / Radiation    No Hair   203.0   \n",
       "4      Abraxas   Male      blue      Cosmic Entity      Black   -99.0   \n",
       "\n",
       "           Publisher Skin color Alignment  Weight    ...     Web Creation  \\\n",
       "0      Marvel Comics          -      good   441.0    ...            False   \n",
       "1  Dark Horse Comics       blue      good    65.0    ...            False   \n",
       "2          DC Comics        red      good    90.0    ...            False   \n",
       "3      Marvel Comics          -       bad   441.0    ...            False   \n",
       "4      Marvel Comics          -       bad   -99.0    ...            False   \n",
       "\n",
       "  Reality Warping Odin Force Symbiote Costume Speed Force Phoenix Force  \\\n",
       "0           False      False            False       False         False   \n",
       "1           False      False            False       False         False   \n",
       "2           False      False            False       False         False   \n",
       "3           False      False            False       False         False   \n",
       "4           False      False            False       False         False   \n",
       "\n",
       "  Molecular Dissipation Vision - Cryo Omnipresent Omniscient  \n",
       "0                 False         False       False      False  \n",
       "1                 False         False       False      False  \n",
       "2                 False         False       False      False  \n",
       "3                 False         False       False      False  \n",
       "4                 False         False       False      False  \n",
       "\n",
       "[5 rows x 178 columns]"
      ]
     },
     "execution_count": 19,
     "metadata": {},
     "output_type": "execute_result"
    }
   ],
   "source": [
    "heroes.head()"
   ]
  },
  {
   "cell_type": "code",
   "execution_count": null,
   "metadata": {},
   "outputs": [],
   "source": []
  },
  {
   "cell_type": "markdown",
   "metadata": {},
   "source": [
    "In the cell below, subset male and female heroes into different dataframes.  Create a scatterplot of the height and weight of each hero, with weight as the y-axis.  Plot both the male and female heroes subset into each dataframe, and make the color for each point in the scatterplot correspond to the gender of the superhero."
   ]
  },
  {
   "cell_type": "code",
   "execution_count": 20,
   "metadata": {},
   "outputs": [
    {
     "data": {
      "text/plain": [
       "Index(['name', 'Gender', 'Eye color', 'Race', 'Hair color', 'Height',\n",
       "       'Publisher', 'Skin color', 'Alignment', 'Weight',\n",
       "       ...\n",
       "       'Web Creation', 'Reality Warping', 'Odin Force', 'Symbiote Costume',\n",
       "       'Speed Force', 'Phoenix Force', 'Molecular Dissipation',\n",
       "       'Vision - Cryo', 'Omnipresent', 'Omniscient'],\n",
       "      dtype='object', length=178)"
      ]
     },
     "execution_count": 20,
     "metadata": {},
     "output_type": "execute_result"
    }
   ],
   "source": [
    "heroes.columns"
   ]
  },
  {
   "cell_type": "code",
   "execution_count": 21,
   "metadata": {},
   "outputs": [
    {
     "data": {
      "text/plain": [
       "<matplotlib.axes._subplots.AxesSubplot at 0x109e0c128>"
      ]
     },
     "execution_count": 21,
     "metadata": {},
     "output_type": "execute_result"
    },
    {
     "data": {
      "image/png": "[encoded data removed]",
      "text/plain": [
       "<Figure size 432x288 with 1 Axes>"
      ]
     },
     "metadata": {},
     "output_type": "display_data"
    }
   ],
   "source": [
    "female_heroes = heroes[heroes.Gender == 'Female']\n",
    "fh = female_heroes.groupby('name').sum()\n",
    "fh.plot('Weight','Height',kind='scatter')"
   ]
  },
  {
   "cell_type": "code",
   "execution_count": 22,
   "metadata": {},
   "outputs": [
    {
     "data": {
      "text/plain": [
       "<matplotlib.axes._subplots.AxesSubplot at 0x1a15d5d5f8>"
      ]
     },
     "execution_count": 22,
     "metadata": {},
     "output_type": "execute_result"
    },
    {
     "data": {
      "image/png": "[encoded data removed]",
      "text/plain": [
       "<Figure size 432x288 with 1 Axes>"
      ]
     },
     "metadata": {},
     "output_type": "display_data"
    }
   ],
   "source": [
    "male_heroes = heroes[heroes.Gender == 'Male']\n",
    "mh = male_heroes.groupby('name').sum()\n",
    "mh.plot('Weight','Height',kind='scatter')"
   ]
  },
  {
   "cell_type": "code",
   "execution_count": 35,
   "metadata": {},
   "outputs": [
    {
     "data": {
      "image/png": "[encoded data removed]",
      "text/plain": [
       "<Figure size 1080x360 with 2 Axes>"
      ]
     },
     "metadata": {},
     "output_type": "display_data"
    }
   ],
   "source": [
    "heroes_fig = plt.figure(figsize=(15,5))\n",
    "ax1 = heroes_fig.add_subplot(121)\n",
    "ax2 = heroes_fig.add_subplot(122)\n",
    "\n",
    "ax1.scatter(female_heroes['Weight'],female_heroes['Height'],c='pink')\n",
    "ax1.set_xlabel('Weight')\n",
    "ax1.set_ylabel('Height')\n",
    "ax1.set_title('Female Heroes')\n",
    "ax2.scatter(male_heroes.Weight,male_heroes.Height,c='blue')\n",
    "ax2.set_xlabel('Weight')\n",
    "ax2.set_ylabel('Height')\n",
    "ax2.set_title('Male Heroes')\n",
    "\n",
    "plt.show()"
   ]
  },
  {
   "cell_type": "markdown",
   "metadata": {},
   "source": [
    "## Some Initial Investigation\n",
    "\n",
    "Next, slice the DataFrame as needed and visualize the distribution of heights and weights by gender.  You should have 4 total plots.  \n",
    "\n",
    "In the cell below:\n",
    "\n",
    "* Slice the DataFrame into separate DataFrames by gender\n",
    "* Complete the `show_distplot` function.  This helper function should take in a DataFrame, a string containing the gender we want to visualize, and and the column name we want to visualize by gender. The function should display a distplot visualization from seaborn of the column/gender combination.  \n",
    "\n",
    "Hint: Don't forget to check the [seaborn documentation for distplot](https://seaborn.pydata.org/generated/seaborn.distplot.html) if you have questions about how to use it correctly! "
   ]
  },
  {
   "cell_type": "code",
   "execution_count": null,
   "metadata": {},
   "outputs": [],
   "source": [
    "male_heroes_df = None\n",
    "female_heroes_df = None\n",
    "\n",
    "def show_distplot(dataframe, gender, column_name):\n",
    "    pass"
   ]
  },
  {
   "cell_type": "code",
   "execution_count": null,
   "metadata": {},
   "outputs": [],
   "source": [
    "# Male Height\n"
   ]
  },
  {
   "cell_type": "code",
   "execution_count": null,
   "metadata": {},
   "outputs": [],
   "source": [
    "# Male Weight\n"
   ]
  },
  {
   "cell_type": "code",
   "execution_count": null,
   "metadata": {},
   "outputs": [],
   "source": [
    "# Female Height\n"
   ]
  },
  {
   "cell_type": "code",
   "execution_count": null,
   "metadata": {},
   "outputs": [],
   "source": [
    "# Female Weight\n"
   ]
  },
  {
   "cell_type": "markdown",
   "metadata": {},
   "source": [
    "Discuss your findings from the plots above, with respect to the distibution of height and weight by gender.  Your explanation should include discussion of any relevant summary statistics, including mean, median, mode, and the overall shape of each distribution.  \n",
    "\n",
    "Wite your answer below this line:\n",
    "____________________________________________________________________________________________________________________________\n",
    "\n"
   ]
  },
  {
   "cell_type": "markdown",
   "metadata": {},
   "source": [
    "### Sample Question: Most Common Powers\n",
    "\n",
    "The rest of this notebook will be left to you to investigate the dataset by formulating your own questions, and then seeking answers using pandas and numpy.  Every answer should include some sort of visualization, when appropriate. Before moving on to formulating your own questions, use the dataset to answer the following questions about superhero powers:\n",
    "\n",
    "* What are the 5 most common powers overall?\n",
    "* What are the 5 most common powers in the Marvel Universe?\n",
    "* What are the 5 most common powers in the DC Universe?"
   ]
  },
  {
   "cell_type": "code",
   "execution_count": null,
   "metadata": {},
   "outputs": [],
   "source": []
  },
  {
   "cell_type": "code",
   "execution_count": null,
   "metadata": {},
   "outputs": [],
   "source": []
  },
  {
   "cell_type": "code",
   "execution_count": null,
   "metadata": {},
   "outputs": [],
   "source": []
  },
  {
   "cell_type": "code",
   "execution_count": null,
   "metadata": {},
   "outputs": [],
   "source": []
  },
  {
   "cell_type": "markdown",
   "metadata": {},
   "source": [
    "Analyze the results you found above to answer the following question:\n",
    "\n",
    "How do the top 5 powers in the Marvel and DC universes compare?  Are they similar, or are there significant differences? How do they compare to the overall trends in the entire Superheroes dataset?\n",
    "\n",
    "Wite your answer below this line:\n",
    "____________________________________________________________________________________________________________________________\n",
    "\n",
    "\n",
    "### Your Own Investigation\n",
    "\n",
    "For the remainder of this lab, you'll be focusing on coming up with and answering your own question, just like we did above.  Your question should not be overly simple, and should require both descriptive statistics and data visualization to answer.  In case you're unsure of what questions to ask, some sample questions have been provided below.\n",
    "\n",
    "Pick one of the following questions to investigate and answer, or come up with one of your own!\n",
    "\n",
    "* Which powers have the highest chance of co-occuring in a hero (e.g. super strength and flight), and does this differ by gender?\n",
    "* Is there a relationship between a hero's height and weight and their powerset?\n",
    "* What is the distribution of skin colors amongst alien heroes?\n",
    "\n",
    "Explain your question below this line:\n",
    "____________________________________________________________________________________________________________________________\n",
    "\n",
    "\n",
    "\n",
    "Some sample cells have been provided to give you room to work. If you need to create more cells, you can do this easily by:\n",
    "\n",
    "1. Highlighting a cell and then pressing `esc` to enter command mode.\n",
    "1. Pressing `b` to add a cell below the currently highlighted cell, or `a` to add one above it.  \n",
    "\n",
    "Be sure to include thoughtful, well-labeled visualizations to back up your analysis!"
   ]
  },
  {
   "cell_type": "code",
   "execution_count": null,
   "metadata": {},
   "outputs": [],
   "source": []
  },
  {
   "cell_type": "code",
   "execution_count": null,
   "metadata": {},
   "outputs": [],
   "source": []
  },
  {
   "cell_type": "code",
   "execution_count": null,
   "metadata": {},
   "outputs": [],
   "source": []
  },
  {
   "cell_type": "code",
   "execution_count": null,
   "metadata": {},
   "outputs": [],
   "source": []
  },
  {
   "cell_type": "code",
   "execution_count": null,
   "metadata": {},
   "outputs": [],
   "source": []
  },
  {
   "cell_type": "code",
   "execution_count": null,
   "metadata": {},
   "outputs": [],
   "source": []
  },
  {
   "cell_type": "markdown",
   "metadata": {},
   "source": [
    "## Summary\n",
    "\n",
    "In this lab, we demonstrated our mastery of:\n",
    "* Using all of our Pandas knowledge to date to clean the dataset and deal with null values\n",
    "* Using Queries and aggregations to group the data into interesting subsets as needed\n",
    "* Using descriptive statistics and data visualization to find answers to questions we may have about the data"
   ]
  }
 ],
 "metadata": {
  "kernelspec": {
   "display_name": "Python 3",
   "language": "python",
   "name": "python3"
  },
  "language_info": {
   "codemirror_mode": {
    "name": "ipython",
    "version": 3
   },
   "file_extension": ".py",
   "mimetype": "text/x-python",
   "name": "python",
   "nbconvert_exporter": "python",
   "pygments_lexer": "ipython3",
   "version": "3.6.5"
  }
 },
 "nbformat": 4,
 "nbformat_minor": 2
}
